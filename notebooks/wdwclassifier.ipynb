{
 "cells": [
  {
   "cell_type": "code",
   "execution_count": 13,
   "metadata": {},
   "outputs": [
    {
     "name": "stderr",
     "output_type": "stream",
     "text": [
      "\u001b[32m\u001b[1m  Activating\u001b[22m\u001b[39m project at `~/Desktop/rrm-genomic-extractor`\n",
      "WARNING: replacing module DataIO.\n",
      "WARNING: replacing module Model.\n"
     ]
    }
   ],
   "source": [
    "begin\n",
    "    using Pkg\n",
    "    Pkg.activate(\"../\")\n",
    "    Pkg.instantiate()\n",
    "end\n",
    "\n",
    "include(\"../modules/DataIO.jl\")\n",
    "include(\"../modules/Model.jl\")\n",
    "\n",
    "using FASTX,\n",
    "    .DataIO,\n",
    "    .Model\n",
    "    "
   ]
  },
  {
   "cell_type": "markdown",
   "metadata": {},
   "source": [
    "### Collectiong histogram as datasets\n",
    "\n",
    "1. Define Hyperparams and data variables"
   ]
  },
  {
   "cell_type": "code",
   "execution_count": 5,
   "metadata": {},
   "outputs": [
    {
     "data": {
      "text/plain": [
       "\"/home/salipe/Desktop/rrm-genomic-extractor/notebooks/.project_cache/0.004\""
      ]
     },
     "metadata": {},
     "output_type": "display_data"
    }
   ],
   "source": [
    "wnwPercent::Float32 = 0.004\n",
    "variantDirPath::String = \"/home/salipe/Desktop/datasets/tutorial_data/kmers\"\n",
    "\n",
    "cachdir::String = \"$(pwd())/.project_cache/$wnwPercent\"\n",
    "\n",
    "try\n",
    "    mkpath(cachdir)\n",
    "catch e\n",
    "    @error \"create cache direcotry failed\" exception = (e, catch_backtrace())\n",
    "end"
   ]
  },
  {
   "cell_type": "markdown",
   "metadata": {},
   "source": [
    "2. Load Kmers set"
   ]
  },
  {
   "cell_type": "code",
   "execution_count": 9,
   "metadata": {},
   "outputs": [
    {
     "data": {
      "text/plain": [
       "Set{String} with 4293 elements:\n",
       "  \"TAAAATCAGCACCTT\"\n",
       "  \"GGAATTTCAAGAACT\"\n",
       "  \"GTCTACTACAGTCAG\"\n",
       "  \"GTGGTCTCCCTCAGG\"\n",
       "  \"GAACCGACGATGACT\"\n",
       "  \"GTTAGTGCTAAATCA\"\n",
       "  \"ATGGCTGTGATGCTG\"\n",
       "  \"CTTCTAGAGTTCTTG\"\n",
       "  \"ATTACATTATAAACC\"\n",
       "  \"GTTTTTTTATGTACT\"\n",
       "  \"ATAACTTTTAAAGAA\"\n",
       "  \"GCTATGCCTTCGAAT\"\n",
       "  \"CATCTAGATGGTGAA\"\n",
       "  \"CTTGTTTTAAGCTTT\"\n",
       "  \"TTACCACAGAAATTT\"\n",
       "  \"TAGAGTGTTAGGTTT\"\n",
       "  \"GGTTGGGAACTTGTT\"\n",
       "  \"GATAATAGGCTTAAA\"\n",
       "  \"TACACACAACACATT\"\n",
       "  ⋮ "
      ]
     },
     "metadata": {},
     "output_type": "display_data"
    }
   ],
   "source": [
    "variantDirs::Vector{String} = readdir(variantDirPath)\n",
    "kmerset = Set{String}()\n",
    "\n",
    "@simd for variant in variantDirs\n",
    "    variantKmers = DataIO.read_pickle_data(\"$variantDirPath/$variant/$(variant)_ExclusiveKmers.sav\")\n",
    "    union!(kmerset, Set(variantKmers))\n",
    "end\n",
    "\n",
    "kmerset"
   ]
  },
  {
   "cell_type": "markdown",
   "metadata": {},
   "source": [
    "3. Loading dataset informatio\n",
    "    - Load sequences\n",
    "    - Defining Kmer regex function and Window operation values"
   ]
  },
  {
   "cell_type": "code",
   "execution_count": 14,
   "metadata": {},
   "outputs": [
    {
     "name": "stdout",
     "output_type": "stream",
     "text": [
      "Processing Alpha\n"
     ]
    },
    {
     "name": "stderr",
     "output_type": "stream",
     "text": [
      "┌ Info: Cache saved successfully: /home/salipe/Desktop/rrm-genomic-extractor/notebooks/.project_cache/0.004/Alpha_outmask.dat\n",
      "└ @ Main.DataIO /home/salipe/Desktop/rrm-genomic-extractor/modules/DataIO.jl:124\n"
     ]
    },
    {
     "ename": "UndefVarError",
     "evalue": "UndefVarError: `outputs` not defined in `Main`\nSuggestion: check for spelling errors or missing imports.",
     "output_type": "error",
     "traceback": [
      "UndefVarError: `outputs` not defined in `Main`\n",
      "Suggestion: check for spelling errors or missing imports.\n",
      "\n",
      "Stacktrace:\n",
      " [1] top-level scope\n",
      "   @ ~/Desktop/rrm-genomic-extractor/notebooks/jl_notebook_cell_df34fa98e69747e1a8f8a730347b8e2f_X22sZmlsZQ==.jl:25"
     ]
    }
   ],
   "source": [
    "input_data = Vector{Tuple{String,Vector{Vector{Float64}}}}(undef, length(variantDirs))\n",
    "\n",
    "@inbounds for v in eachindex(variantDirs)\n",
    "    variant::String = variantDirs[v]\n",
    "    println(\"Processing $variant\")\n",
    "    cache_path = \"$cachdir/$(variant)_outmask.dat\"\n",
    "\n",
    "    cache::Union{Nothing,Vector{Vector{Float64}}} = DataIO.load_cache(cache_path)\n",
    "\n",
    "    if !isnothing(cache)\n",
    "        @info \"Using cached data from $cache_path\"\n",
    "        outputs[v] = (variant,data)\n",
    "    else\n",
    "\n",
    "        sequences = String[]\n",
    "        for record in open(FASTAReader, \"$variantDirPath/$variant/$variant.fasta\")\n",
    "            push!(sequences, sequence(String, record))\n",
    "        end\n",
    "        minSeqLength::UInt16 = minimum(map(length, sequences))\n",
    "        wnwSize::UInt16 = ceil(UInt16, minSeqLength * wnwPercent)\n",
    "\n",
    "        data = Model.wndwSequencesKmersHistogram(kmerset,wnwSize,sequences)\n",
    "        DataIO.save_cache(cache_path, data)\n",
    "\n",
    "        outputs[v] = (variant,data)\n",
    "        \n",
    "    end\n",
    "    println(\"Finish Processing $variant\")\n",
    "end"
   ]
  }
 ],
 "metadata": {
  "kernelspec": {
   "display_name": "Julia 1.11.3",
   "language": "julia",
   "name": "julia-1.11"
  },
  "language_info": {
   "file_extension": ".jl",
   "mimetype": "application/julia",
   "name": "julia",
   "version": "1.11.3"
  }
 },
 "nbformat": 4,
 "nbformat_minor": 2
}
