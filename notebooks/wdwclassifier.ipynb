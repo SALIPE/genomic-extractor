{
    "cells": [
        {
            "cell_type": "code",
            "execution_count": 2,
            "metadata": {},
            "outputs": [
                {
                    "name": "stderr",
                    "output_type": "stream",
                    "text": [
                        "\u001b[32m\u001b[1m  Activating\u001b[22m\u001b[39m project at `~/Desktop/genomic-extractor/GREAC`\n",
                        "WARNING: using PlotMeasures.w in module Main conflicts with an existing identifier.\n"
                    ]
                }
            ],
            "source": [
                "\n",
                "using Pkg\n",
                "Pkg.activate(\"../GREAC\")  # Activate the project environment\n",
                "Pkg.instantiate()  # Ensure dependencies are installed\n",
                "\n",
                "# Load GREAC and its dependencies properly\n",
                "using GREAC\n",
                "using FASTX, LinearAlgebra, Plots\n",
                "\n",
                "# If you need internal modules explicitly:\n",
                "using GREAC.DataIO, GREAC.ClassificationModel, GREAC.RegionExtraction\n",
                "using Plots.PlotMeasures\n"
            ]
        },
        {
            "cell_type": "code",
            "execution_count": null,
            "metadata": {},
            "outputs": [
                {
                    "data": {
                        "text/plain": [
                            "intersecao_intervalos (generic function with 1 method)"
                        ]
                    },
                    "metadata": {},
                    "output_type": "display_data"
                }
            ],
            "source": [
                "\n",
                "function havein(pos, regions)\n",
                "    for (i,e ) in regions\n",
                "        if pos >=i && pos <=e\n",
                "            return pos,i,e\n",
                "        end\n",
                "    end\n",
                "    return pos,0,0\n",
                "end\n",
                "function intersecao_intervalos(r1::Tuple{Int, Int}, r2::Tuple{Int, Int})\n",
                "    inicio1, fim1 = r1\n",
                "    inicio2, fim2 = r2\n",
                "\n",
                "    if inicio1 > fim1 || inicio2 > fim2\n",
                "        error(\"Os intervalos devem ser do tipo (início <= fim)\")\n",
                "    end\n",
                "\n",
                "    inicio_intersecao = max(inicio1, inicio2)\n",
                "    fim_intersecao = min(fim1, fim2)\n",
                "\n",
                "    if inicio_intersecao <= fim_intersecao\n",
                "        return (inicio_intersecao, fim_intersecao)\n",
                "    else\n",
                "        return nothing \n",
                "    end\n",
                "end\n",
                "\n"
            ]
        },
        {
            "cell_type": "code",
            "execution_count": 4,
            "metadata": {},
            "outputs": [
                {
                    "ename": "UndefVarError",
                    "evalue": "UndefVarError: `groupName` not defined in `Main`\nSuggestion: check for spelling errors or missing imports.",
                    "output_type": "error",
                    "traceback": [
                        "UndefVarError: `groupName` not defined in `Main`\n",
                        "Suggestion: check for spelling errors or missing imports.\n",
                        "\n",
                        "Stacktrace:\n",
                        " [1] top-level scope\n",
                        "   @ ~/Desktop/genomic-extractor/notebooks/jl_notebook_cell_df34fa98e69747e1a8f8a730347b8e2f_W2sZmlsZQ==.jl:22"
                    ]
                }
            ],
            "source": [
                "pos = [2790,\n",
                "    3037,\n",
                "    5386,\n",
                "    5648,\n",
                "    8393,\n",
                "    10029,\n",
                "    12880,\n",
                "    13195,\n",
                "    14408,\n",
                "    15714,\n",
                "    17410,\n",
                "    23403,\n",
                "    23525,\n",
                "    24424,\n",
                "    24469,\n",
                "    25088,\n",
                "    26060,\n",
                "    26149,\n",
                "    28512]\n",
                "\n",
                "for w in [\"0.002\",\"0.004\",\"0.006\",\"0.008\"]\n",
                "    modelCachedFile::String = \"$(homedir())/.project_cache/$groupName/$w/kmers_distribution.dat\"\n",
                "    model = DataIO.load_cache(modelCachedFile)\n",
                "    havepos = Base.Fix2(havein, model.regions)\n",
                "    \n",
                "\n",
                "    found = map(havepos, pos)\n",
                "    count = 0\n",
                "\n",
                "    for (pos, i, e) in found\n",
                "    if i != 0\n",
                "        count +=1 \n",
                "    end\n",
                "    end\n",
                "    @show w count\n",
                "end\n",
                "# modelCachedFile::String = \"$(homedir())/.project_cache/$groupName/0.004/kmers_distribution.dat\"\n",
                "# modelCachedFile::String = \"$(homedir())/.project_cache/$groupName/0.004/Alpha_outmask.dat\"\n",
                "# modelCachedFile\n",
                "\n"
            ]
        },
        {
            "cell_type": "code",
            "execution_count": 14,
            "metadata": {},
            "outputs": [
                {
                    "data": {
                        "text/plain": [
                            "43-element Vector{Tuple{Int64, Int64}}:\n",
                            " (1, 61)\n",
                            " (69, 181)\n",
                            " (183, 197)\n",
                            " (200, 232)\n",
                            " (234, 248)\n",
                            " (280, 302)\n",
                            " (314, 374)\n",
                            " (393, 415)\n",
                            " (429, 460)\n",
                            " (475, 605)\n",
                            " ⋮\n",
                            " (1965, 2231)\n",
                            " (2234, 2273)\n",
                            " (2283, 2303)\n",
                            " (2311, 2344)\n",
                            " (2349, 2366)\n",
                            " (2394, 2411)\n",
                            " (2429, 2828)\n",
                            " (2833, 3080)\n",
                            " (3083, 3221)"
                        ]
                    },
                    "metadata": {},
                    "output_type": "display_data"
                }
            ],
            "source": [
                "groupName::String = \"hbv\"\n",
                "w = \"0.0025\"\n",
                "modelCachedFile::String = \"$(homedir())/.project_cache/$groupName/$w/kmers_distribution.dat\"\n",
                "model = DataIO.load_cache(modelCachedFile)\n",
                "model.regions\n",
                "# model.wnw_size\n",
                "# model.max_seq_windows"
            ]
        },
        {
            "cell_type": "code",
            "execution_count": 15,
            "metadata": {},
            "outputs": [],
            "source": [
                "open(\"regions_hbv.csv\", \"a\") do io\n",
                "        write(io, \"virus,region_init,region_end\\n\")\n",
                "        for (ri,re) in model.regions\n",
                "            line = join([\n",
                "                    escape_string(string(groupName)),\n",
                "                    escape_string(string(ri)),\n",
                "                    escape_string(string(re))\n",
                "                ], \",\")\n",
                "\n",
                "            write(io, line * \"\\n\")\n",
                "        end\n",
                "    end"
            ]
        },
        {
            "cell_type": "code",
            "execution_count": 6,
            "metadata": {},
            "outputs": [
                {
                    "data": {
                        "text/plain": [
                            "58030"
                        ]
                    },
                    "metadata": {},
                    "output_type": "display_data"
                }
            ],
            "source": [
                "total_length = 0\n",
                "    for (i, e) in model.regions\n",
                "        total_length += e - i\n",
                "    end\n",
                "total_length"
            ]
        },
        {
            "cell_type": "code",
            "execution_count": 9,
            "metadata": {},
            "outputs": [
                {
                    "data": {
                        "text/plain": [
                            "60"
                        ]
                    },
                    "metadata": {},
                    "output_type": "display_data"
                }
            ],
            "source": [
                "denv_pos = [(70, 78),\n",
                " (95, 436),\n",
                " (95, 394),\n",
                " (437, 934),\n",
                " (437, 709),\n",
                " (710, 934),\n",
                " (935, 2419),\n",
                " (2420, 3475),\n",
                " (3476, 4129),\n",
                " (4130, 4519),\n",
                " (4520, 6376),\n",
                " (6377, 6757),\n",
                " (6758, 6826),\n",
                " (6827, 7573),\n",
                " (7574, 10270),\n",
                " (132, 142),\n",
                " (10630, 10640)]\n",
                "\n",
                "total = 0\n",
                "for (reg_ini, reg_end) in model.regions\n",
                "\n",
                "    for (denv_ini, denv_end) in denv_pos\n",
                "        innner = intersecao_intervalos((reg_ini, reg_end),(denv_ini, denv_end))\n",
                "        if (reg_ini>= denv_ini && reg_end <=denv_end)\n",
                "            total+=1\n",
                "            break\n",
                "        end\n",
                "    end\n",
                "    \n",
                "end\n",
                "total"
            ]
        },
        {
            "cell_type": "code",
            "execution_count": null,
            "metadata": {},
            "outputs": [
                {
                    "data": {
                        "text/plain": [
                            "19-element Vector{Tuple{Int64, Int64, Int64}}:\n",
                            " (2790, 2602, 2835)\n",
                            " (3037, 2885, 3550)\n",
                            " (5386, 5086, 5494)\n",
                            " (5648, 5500, 5736)\n",
                            " (8393, 0, 0)\n",
                            " (10029, 9711, 10411)\n",
                            " (12880, 0, 0)\n",
                            " (13195, 0, 0)\n",
                            " (14408, 14242, 14505)\n",
                            " (15714, 0, 0)\n",
                            " (17410, 17386, 17615)\n",
                            " (23403, 22403, 24009)\n",
                            " (23525, 22403, 24009)\n",
                            " (24424, 24053, 24594)\n",
                            " (24469, 24053, 24594)\n",
                            " (25088, 24766, 25167)\n",
                            " (26060, 25992, 26526)\n",
                            " (26149, 25992, 26526)\n",
                            " (28512, 27495, 29061)"
                        ]
                    },
                    "metadata": {},
                    "output_type": "display_data"
                }
            ],
            "source": [
                "\n",
                "\n",
                "pos = [2790,\n",
                "3037,\n",
                "5386,\n",
                "5648,\n",
                "8393,\n",
                "10029,\n",
                "12880,\n",
                "13195,\n",
                "14408,\n",
                "15714,\n",
                "17410,\n",
                "23403,\n",
                "23525,\n",
                "24424,\n",
                "24469,\n",
                "25088,\n",
                "26060,\n",
                "26149,\n",
                "28512]\n",
                "\n",
                "found = map(havepos, pos)\n"
            ]
        },
        {
            "cell_type": "code",
            "execution_count": 20,
            "metadata": {},
            "outputs": [
                {
                    "data": {
                        "text/plain": [
                            "\"/home/salipe/Desktop/genomic-extractor/notebooks/sars_variant_mask.pdf\""
                        ]
                    },
                    "metadata": {},
                    "output_type": "display_data"
                }
            ],
            "source": [
                "plt = plot(title=\"K-mer presence - Regions Masks\",\n",
                "titlefont=10,\n",
                "guidefontsize=8,\n",
                "legend=:outertop, legendcolumns=5, dpi=300)\n",
                "\n",
                "for class  in  model.classes\n",
                "    variant, (hist,mask) = DataIO.load_cache(\"$(homedir())/.project_cache/$groupName/$w/$(class)_outmask.dat\")\n",
                "    plot!(plt,mask, label=class)\n",
                "end\n",
                "ylabel!(\"Position Mark (0-1)\")\n",
                "xlabel!(\"Positions\")\n",
                "yticks!([0,1])\n",
                "# plot(plt)\n",
                "savefig(\"sars_variant_mask.pdf\")"
            ]
        },
        {
            "cell_type": "code",
            "execution_count": 18,
            "metadata": {},
            "outputs": [
                {
                    "data": {
                        "text/plain": [
                            "\"/home/salipe/Desktop/genomic-extractor/notebooks/sars_variant_hist.pdf\""
                        ]
                    },
                    "metadata": {},
                    "output_type": "display_data"
                }
            ],
            "source": [
                "plt = plot(title=\"K-mer presence - Windows Histogram\",\n",
                "titlefont=10,\n",
                "guidefontsize=8,\n",
                "legend=:outertop, \n",
                "legendcolumns=5, dpi=300)\n",
                "\n",
                "for class  in  model.classes\n",
                "    variant, (hist,mask) = DataIO.load_cache(\"$(homedir())/.project_cache/$groupName/$w/$(class)_outmask.dat\")\n",
                "    plot!(plt,hist, label=class)\n",
                "end\n",
                "ylabel!(\"Sequence presence amount\")\n",
                "xlabel!(\"Windows\")\n",
                "# plot(plt)\n",
                "savefig(\"sars_variant_hist.pdf\")"
            ]
        },
        {
            "cell_type": "code",
            "execution_count": 21,
            "metadata": {},
            "outputs": [
                {
                    "data": {
                        "text/plain": [
                            "\"/home/salipe/Desktop/genomic-extractor/notebooks/sars_conju_mask.pdf\""
                        ]
                    },
                    "metadata": {},
                    "output_type": "display_data"
                }
            ],
            "source": [
                "mask = zeros(model.regions[length(model.regions)][2])\n",
                "\n",
                "for (i,e) in model.regions\n",
                "    mask[i:e] = ones(e-i+1)\n",
                "end\n",
                "plot(mask,label=\"regions\", title=\"Regions Extracted - Regions Masks Conjunction\",\n",
                "titlefont=10,\n",
                "guidefontsize=8,\n",
                "legend=:outertop, dpi=300)\n",
                "\n",
                "ylabel!(\"Position Mark (0-1)\")\n",
                "xlabel!(\"Positions\")\n",
                "yticks!([0,1])\n",
                "\n",
                "savefig(\"sars_conju_mask.pdf\")"
            ]
        },
        {
            "cell_type": "code",
            "execution_count": 23,
            "metadata": {},
            "outputs": [
                {
                    "data": {
                        "text/plain": [
                            "\"/home/salipe/Desktop/genomic-extractor/notebooks/sars_frequency_behaviour.pdf\""
                        ]
                    },
                    "metadata": {},
                    "output_type": "display_data"
                }
            ],
            "source": [
                "\n",
                "plt = plot(title=\"Variants Regions Behavior - $(length(model.regions)) windows\",\n",
                "titlefont=10,\n",
                "guidefontsize=8,\n",
                "legend=:outertop, legendcolumns=5, dpi=300)\n",
                "\n",
                "for (class, distribution) in  model.class_string_probs\n",
                "    plot!(plt,distribution, label=class)\n",
                "end\n",
                "ylabel!(\"Frequency (Fwr)\")\n",
                "xlabel!(\"Extracted Regions (Features)\")\n",
                "plot(plt)\n",
                "savefig(\"sars_frequency_behaviour.pdf\")\n"
            ]
        },
        {
            "cell_type": "code",
            "execution_count": 14,
            "metadata": {},
            "outputs": [
                {
                    "data": {
                        "text/plain": [
                            "create_variants_region_grid (generic function with 1 method)"
                        ]
                    },
                    "metadata": {},
                    "output_type": "display_data"
                }
            ],
            "source": [
                "function create_variants_region_grid(models; \n",
                "    titles=[\"Dengue\", \"Sars-CoV-2\", \"HBV\", \"HIV\"],\n",
                "    main_title=\"Viruses Regions Behavior Comparison\",\n",
                "    size=(1000, 800),\n",
                "    dpi=300,\n",
                "    legend_position=:outertop,\n",
                "    legend_columns=4\n",
                ")\n",
                "    # Verify we have proper input\n",
                "    num_models = length(models)\n",
                "    if num_models == 0\n",
                "        error(\"No models provided\")\n",
                "    elseif num_models > 4\n",
                "        @warn \"More than 4 models provided. Only the first 4 will be plotted.\"\n",
                "        models = models[1:4]\n",
                "        num_models = 4\n",
                "    end\n",
                "    \n",
                "    # Ensure we have enough titles\n",
                "    while length(titles) < num_models\n",
                "        push!(titles, \"Model $(length(titles) + 1)\")\n",
                "    end\n",
                "    \n",
                "    # Create the layout based on the number of models\n",
                "    layout = if num_models == 1\n",
                "        @layout [a]\n",
                "    elseif num_models == 2\n",
                "        @layout [a b]\n",
                "    elseif num_models == 3\n",
                "        @layout [a b; c _]\n",
                "    else # num_models == 4\n",
                "        @layout [a b; c d]\n",
                "    end\n",
                "    \n",
                "    # Create the plot with subplots\n",
                "    p = plot(layout=layout, size=size, dpi=dpi, plot_title=main_title, titlefont=10, guidefontsize=8)\n",
                "    \n",
                "    # Create each subplot\n",
                "    for i in 1:num_models\n",
                "        model = models[i]\n",
                "        \n",
                "        sp = p[i]\n",
                "        \n",
                "        # Set subplot title and attributes\n",
                "        title!(sp, \"$(titles[i]) - $(length(model.regions)) windows\")\n",
                "        plot!(sp, legend=legend_position, legendcolumns=legend_columns)\n",
                "        \n",
                "        # Add lines for each class directly to the subplot\n",
                "        for (class, distribution) in model.class_string_probs\n",
                "            plot!(sp, distribution, label=class)\n",
                "        end\n",
                "        \n",
                "        # Add axis labels directly to the subplot\n",
                "        ylabel!(sp, \"Frequency (Fwr)\")\n",
                "        xlabel!(sp, \"Extracted Regions (Features)\")\n",
                "    end\n",
                "    \n",
                "    plot(p)\n",
                "    savefig(\"datasets_frequency_behaviour.pdf\")\n",
                "end\n"
            ]
        },
        {
            "cell_type": "code",
            "execution_count": 80,
            "metadata": {},
            "outputs": [
                {
                    "data": {
                        "text/plain": [
                            "create_variants_histogram_grid (generic function with 1 method)"
                        ]
                    },
                    "metadata": {},
                    "output_type": "display_data"
                }
            ],
            "source": [
                "function create_variants_histogram_grid(\n",
                "    models,\n",
                "    variants::Array{Tuple{String, String}}; \n",
                "    titles=[\"Dengue\", \"Sars-CoV-2\", \"HBV\", \"HIV\"],\n",
                "    main_title=\"K-mers presence - Window histogram\",\n",
                "    size=(1000, 800),\n",
                "    dpi=300,\n",
                "    legend_position=:outertop,\n",
                "    legend_columns=4\n",
                ")\n",
                "    # Verify we have proper input\n",
                "    num_models = length(models)\n",
                "    if num_models == 0\n",
                "        error(\"No models provided\")\n",
                "    elseif num_models > 4\n",
                "        @warn \"More than 4 models provided. Only the first 4 will be plotted.\"\n",
                "        models = models[1:4]\n",
                "        num_models = 4\n",
                "    end\n",
                "    \n",
                "    # Ensure we have enough titles\n",
                "    while length(titles) < num_models\n",
                "        push!(titles, \"Model $(length(titles) + 1)\")\n",
                "    end\n",
                "    \n",
                "    # Create the layout based on the number of models\n",
                "    layout = if num_models == 1\n",
                "        @layout [a]\n",
                "    elseif num_models == 2\n",
                "        @layout [a b]\n",
                "    elseif num_models == 3\n",
                "        @layout [a b; c _]\n",
                "    else # num_models == 4\n",
                "        @layout [a b; c d]\n",
                "    end\n",
                "    \n",
                "    # Create the plot with subplots\n",
                "    p = plot(layout=layout, dpi=dpi, plot_title=main_title,plot_titlefont=10, titlefont=10,guidefontsize=8, margin=5mm)\n",
                "    \n",
                "    # Create each subplot\n",
                "    for i in 1:num_models\n",
                "        model = models[i]\n",
                "        gp, window = variants[i]\n",
                "        sp = p[i]\n",
                "\n",
                "        title!(sp, \"$(titles[i])\")\n",
                "        plot!(sp, legend=legend_position, size=size, legendcolumns=legend_columns,margin=1mm)\n",
                "\n",
                "#         mask = zeros(model.regions[length(model.regions)][2])\n",
                "\n",
                "# for (i,e) in model.regions\n",
                "#     mask[i:e] = ones(e-i+1)\n",
                "# end\n",
                "# plot!(sp,mask, label=\"regions\")\n",
                "        \n",
                "        for class  in  model.classes\n",
                "            variant, (hist,mask) = DataIO.load_cache(\"$(homedir())/.project_cache/$gp/$window/$(class)_outmask.dat\")\n",
                "            plot!(sp,hist, label=class)\n",
                "        end\n",
                "        ylabel!(sp,\"K-mers appearences\")\n",
                "        xlabel!(sp,\"Windows\")\n",
                "        # yticks!([0,1])\n",
                "        # ylabel!(\"Position Mark (0-1)\")\n",
                "        # xlabel!(\"Positions\")\n",
                "    end\n",
                "    \n",
                "    plot(p)\n",
                "    savefig(\"datasets_hist.pdf\")\n",
                "end\n"
            ]
        },
        {
            "cell_type": "code",
            "execution_count": 81,
            "metadata": {},
            "outputs": [
                {
                    "data": {
                        "text/plain": [
                            "\"/home/salipe/Desktop/genomic-extractor/notebooks/datasets_hist.pdf\""
                        ]
                    },
                    "metadata": {},
                    "output_type": "display_data"
                }
            ],
            "source": [
                "models = []\n",
                "variants::Array{Tuple{String, String}} = [\n",
                "    (\"denv\", \"0.002\"),\n",
                "    (\"sars\", \"0.0035\"),\n",
                "    (\"hbv\", \"0.0025\"),\n",
                "    (\"hiv\", \"0.003\"),\n",
                "]\n",
                "\n",
                "for (var, win) in variants\n",
                "    model = DataIO.load_cache(\"$(homedir())/.project_cache/$var/$win/kmers_distribution.dat\")\n",
                "    push!(models, model)\n",
                "end\n",
                "\n",
                "# create_variants_region_grid(models;\n",
                "# titles=[\"Dengue - 0.2%\", \"Sars-CoV-2 - 0.35%\", \"HBV - 0.25%\", \"HIV - 0.3%\"],\n",
                "# size=(950, 900))\n",
                "\n",
                "create_variants_histogram_grid(models, variants;\n",
                "titles=[\"Dengue - 0.2%\", \"Sars-CoV-2 - 0.35%\", \"HBV - 0.25%\", \"HIV - 0.3%\"],\n",
                "main_title=\"K-mer presence -  Windows Histogram\",\n",
                "size=(850, 750))\n"
            ]
        }
    ],
    "metadata": {
        "kernelspec": {
            "display_name": "Julia 1.11.5",
            "language": "julia",
            "name": "julia-1.11"
        },
        "language_info": {
            "file_extension": ".jl",
            "mimetype": "application/julia",
            "name": "julia",
            "version": "1.11.5"
        }
    },
    "nbformat": 4,
    "nbformat_minor": 2
}
