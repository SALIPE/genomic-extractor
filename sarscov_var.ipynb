{
 "cells": [
  {
   "cell_type": "code",
   "execution_count": 8,
   "metadata": {},
   "outputs": [],
   "source": [
    "import pandas as pd\n",
    "\n",
    "mutations_file = '../datasets/mutation_distribution_in_lineages.txt'\n",
    "\n",
    "threshold = 0.90\n",
    "gamma = ['P.1'] #Gamma\n",
    "alpha = ['BA.1.1.7'] # Alpha\n",
    "omicron = ['BA.1.1.529', 'BA.1','BA.2'] # Omicron\n",
    "\n",
    "mutations_df = pd.read_table(mutations_file, sep='\\t', usecols=['Lineage',\n",
    "                                                                    'Frequency of mutated sequences per Lineage',\n",
    "                                                                    'Genome position',\n",
    "                                                                    'Ref seq',\n",
    "                                                                    'ut seq'])\n",
    "                                                                    \n",
    "mutations = mutations_df[(mutations_df['Lineage'].isin(omicron)) & (mutations_df['Frequency of mutated sequences per Lineage'] >= threshold)] "
   ]
  },
  {
   "cell_type": "code",
   "execution_count": null,
   "metadata": {},
   "outputs": [],
   "source": [
    "mutations"
   ]
  },
  {
   "cell_type": "code",
   "execution_count": 9,
   "metadata": {},
   "outputs": [
    {
     "data": {
      "text/plain": [
       "[241,\n",
       " 670,\n",
       " 2790,\n",
       " 2832,\n",
       " 3037,\n",
       " 4184,\n",
       " 4321,\n",
       " 5386,\n",
       " 6512,\n",
       " 8393,\n",
       " 9344,\n",
       " 9424,\n",
       " 9534,\n",
       " 9866,\n",
       " 10029,\n",
       " 10198,\n",
       " 10447,\n",
       " 10449,\n",
       " 11282,\n",
       " 11287,\n",
       " 11537,\n",
       " 12880,\n",
       " 13195,\n",
       " 14408,\n",
       " 15240,\n",
       " 15714,\n",
       " 17410,\n",
       " 18163,\n",
       " 19955,\n",
       " 20055,\n",
       " 21618,\n",
       " 21762,\n",
       " 21846,\n",
       " 21987,\n",
       " 22200,\n",
       " 22578,\n",
       " 22674,\n",
       " 22679,\n",
       " 22686,\n",
       " 22688,\n",
       " 23063,\n",
       " 23075,\n",
       " 23202,\n",
       " 23403,\n",
       " 23525,\n",
       " 23599,\n",
       " 23604,\n",
       " 23854,\n",
       " 23948,\n",
       " 24130,\n",
       " 24424,\n",
       " 24469,\n",
       " 24503,\n",
       " 25000,\n",
       " 25584,\n",
       " 26060,\n",
       " 26270,\n",
       " 26577,\n",
       " 26709,\n",
       " 26858,\n",
       " 27259,\n",
       " 27382,\n",
       " 27383,\n",
       " 27384,\n",
       " 27807,\n",
       " 28271,\n",
       " 28311,\n",
       " 28361,\n",
       " 28881,\n",
       " 28882,\n",
       " 28883,\n",
       " 29510]"
      ]
     },
     "execution_count": 9,
     "metadata": {},
     "output_type": "execute_result"
    }
   ],
   "source": [
    "ls = mutations['Genome position'].to_list()\n",
    "ls = list(set(ls))\n",
    "ls.sort()\n",
    "ls"
   ]
  }
 ],
 "metadata": {
  "kernelspec": {
   "display_name": "Python 3",
   "language": "python",
   "name": "python3"
  },
  "language_info": {
   "codemirror_mode": {
    "name": "ipython",
    "version": 3
   },
   "file_extension": ".py",
   "mimetype": "text/x-python",
   "name": "python",
   "nbconvert_exporter": "python",
   "pygments_lexer": "ipython3",
   "version": "3.12.7"
  }
 },
 "nbformat": 4,
 "nbformat_minor": 2
}
