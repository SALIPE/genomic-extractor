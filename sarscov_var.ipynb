{
 "cells": [
  {
   "cell_type": "code",
   "execution_count": 1,
   "metadata": {},
   "outputs": [],
   "source": [
    "import pandas as pd\n",
    "\n",
    "mutations_file = '../datasets/mutation_distribution_in_lineages.txt'\n",
    "\n",
    "threshold = 0.99\n",
    "variant_name = 'P.1'\n",
    "variant_name = 'BA.1.1.7'\n",
    "\n",
    "mutations_df = pd.read_table(mutations_file, sep='\\t', usecols=['Lineage',\n",
    "                                                                    'Frequency of mutated sequences per Lineage',\n",
    "                                                                    'Genome position',\n",
    "                                                                    'Ref seq',\n",
    "                                                                    'ut seq'])\n",
    "                                                                    \n",
    "mutations = mutations_df[(mutations_df['Lineage'].isin([\"P.1\"])) & (mutations_df['Frequency of mutated sequences per Lineage'] >= threshold)] "
   ]
  },
  {
   "cell_type": "code",
   "execution_count": 7,
   "metadata": {},
   "outputs": [
    {
     "data": {
      "text/plain": [
       "[14408, 23403, 23525, 25088, 26149, 28512, 5648, 3037]"
      ]
     },
     "execution_count": 7,
     "metadata": {},
     "output_type": "execute_result"
    }
   ],
   "source": [
    "mutations[\"Genome position\"].to_list()"
   ]
  }
 ],
 "metadata": {
  "kernelspec": {
   "display_name": "Python 3",
   "language": "python",
   "name": "python3"
  },
  "language_info": {
   "codemirror_mode": {
    "name": "ipython",
    "version": 3
   },
   "file_extension": ".py",
   "mimetype": "text/x-python",
   "name": "python",
   "nbconvert_exporter": "python",
   "pygments_lexer": "ipython3",
   "version": "3.12.7"
  }
 },
 "nbformat": 4,
 "nbformat_minor": 2
}
