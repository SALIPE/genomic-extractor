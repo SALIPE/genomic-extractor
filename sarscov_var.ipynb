{
 "cells": [
  {
   "cell_type": "code",
   "execution_count": 25,
   "metadata": {},
   "outputs": [],
   "source": [
    "import pandas as pd\n",
    "\n",
    "mutations_file = '../datasets/mutation_distribution_in_lineages.txt'\n",
    "\n",
    "threshold = 0.99\n",
    "gamma = ['P.1'] #Gamma\n",
    "alpha = ['BA.1.1.7'] # Alpha\n",
    "omicron = ['BA.1.1.529', 'BA.1','BA.2'] # Omicron\n",
    "\n",
    "mutations_df = pd.read_table(mutations_file, sep='\\t', usecols=['Lineage',\n",
    "                                                                    'Frequency of mutated sequences per Lineage',\n",
    "                                                                    'Genome position',\n",
    "                                                                    'Ref seq',\n",
    "                                                                    'ut seq'])\n",
    "                                                                    \n",
    "mutations = mutations_df[(mutations_df['Lineage'].isin(gamma)) & (mutations_df['Frequency of mutated sequences per Lineage'] >= threshold)] "
   ]
  },
  {
   "cell_type": "code",
   "execution_count": 26,
   "metadata": {},
   "outputs": [
    {
     "data": {
      "text/html": [
       "<div>\n",
       "<style scoped>\n",
       "    .dataframe tbody tr th:only-of-type {\n",
       "        vertical-align: middle;\n",
       "    }\n",
       "\n",
       "    .dataframe tbody tr th {\n",
       "        vertical-align: top;\n",
       "    }\n",
       "\n",
       "    .dataframe thead th {\n",
       "        text-align: right;\n",
       "    }\n",
       "</style>\n",
       "<table border=\"1\" class=\"dataframe\">\n",
       "  <thead>\n",
       "    <tr style=\"text-align: right;\">\n",
       "      <th></th>\n",
       "      <th>Frequency of mutated sequences per Lineage</th>\n",
       "      <th>Lineage</th>\n",
       "      <th>Genome position</th>\n",
       "      <th>Ref seq</th>\n",
       "      <th>ut seq</th>\n",
       "    </tr>\n",
       "  </thead>\n",
       "  <tbody>\n",
       "    <tr>\n",
       "      <th>118848</th>\n",
       "      <td>0.993259</td>\n",
       "      <td>P.1</td>\n",
       "      <td>14408</td>\n",
       "      <td>C</td>\n",
       "      <td>T</td>\n",
       "    </tr>\n",
       "    <tr>\n",
       "      <th>118864</th>\n",
       "      <td>0.998197</td>\n",
       "      <td>P.1</td>\n",
       "      <td>23403</td>\n",
       "      <td>A</td>\n",
       "      <td>G</td>\n",
       "    </tr>\n",
       "    <tr>\n",
       "      <th>118865</th>\n",
       "      <td>0.992730</td>\n",
       "      <td>P.1</td>\n",
       "      <td>23525</td>\n",
       "      <td>C</td>\n",
       "      <td>T</td>\n",
       "    </tr>\n",
       "    <tr>\n",
       "      <th>118870</th>\n",
       "      <td>0.990741</td>\n",
       "      <td>P.1</td>\n",
       "      <td>25088</td>\n",
       "      <td>G</td>\n",
       "      <td>T</td>\n",
       "    </tr>\n",
       "    <tr>\n",
       "      <th>118875</th>\n",
       "      <td>0.990569</td>\n",
       "      <td>P.1</td>\n",
       "      <td>26149</td>\n",
       "      <td>T</td>\n",
       "      <td>C</td>\n",
       "    </tr>\n",
       "    <tr>\n",
       "      <th>118879</th>\n",
       "      <td>0.990669</td>\n",
       "      <td>P.1</td>\n",
       "      <td>28512</td>\n",
       "      <td>C</td>\n",
       "      <td>G</td>\n",
       "    </tr>\n",
       "    <tr>\n",
       "      <th>118894</th>\n",
       "      <td>0.995120</td>\n",
       "      <td>P.1</td>\n",
       "      <td>5648</td>\n",
       "      <td>A</td>\n",
       "      <td>C</td>\n",
       "    </tr>\n",
       "    <tr>\n",
       "      <th>188710</th>\n",
       "      <td>0.994719</td>\n",
       "      <td>P.1</td>\n",
       "      <td>3037</td>\n",
       "      <td>C</td>\n",
       "      <td>T</td>\n",
       "    </tr>\n",
       "  </tbody>\n",
       "</table>\n",
       "</div>"
      ],
      "text/plain": [
       "        Frequency of mutated sequences per Lineage Lineage  Genome position  \\\n",
       "118848                                    0.993259     P.1            14408   \n",
       "118864                                    0.998197     P.1            23403   \n",
       "118865                                    0.992730     P.1            23525   \n",
       "118870                                    0.990741     P.1            25088   \n",
       "118875                                    0.990569     P.1            26149   \n",
       "118879                                    0.990669     P.1            28512   \n",
       "118894                                    0.995120     P.1             5648   \n",
       "188710                                    0.994719     P.1             3037   \n",
       "\n",
       "       Ref seq ut seq  \n",
       "118848       C      T  \n",
       "118864       A      G  \n",
       "118865       C      T  \n",
       "118870       G      T  \n",
       "118875       T      C  \n",
       "118879       C      G  \n",
       "118894       A      C  \n",
       "188710       C      T  "
      ]
     },
     "execution_count": 26,
     "metadata": {},
     "output_type": "execute_result"
    }
   ],
   "source": [
    "mutations"
   ]
  },
  {
   "cell_type": "code",
   "execution_count": 27,
   "metadata": {},
   "outputs": [
    {
     "data": {
      "text/plain": [
       "[3037, 5648, 14408, 23403, 23525, 25088, 26149, 28512]"
      ]
     },
     "execution_count": 27,
     "metadata": {},
     "output_type": "execute_result"
    }
   ],
   "source": [
    "ls = mutations['Genome position'].to_list()\n",
    "ls = list(set(ls))\n",
    "ls.sort()\n",
    "ls"
   ]
  }
 ],
 "metadata": {
  "kernelspec": {
   "display_name": "Python 3",
   "language": "python",
   "name": "python3"
  },
  "language_info": {
   "codemirror_mode": {
    "name": "ipython",
    "version": 3
   },
   "file_extension": ".py",
   "mimetype": "text/x-python",
   "name": "python",
   "nbconvert_exporter": "python",
   "pygments_lexer": "ipython3",
   "version": "3.12.7"
  }
 },
 "nbformat": 4,
 "nbformat_minor": 2
}
