{
 "cells": [
  {
   "cell_type": "code",
   "execution_count": null,
   "metadata": {},
   "outputs": [
    {
     "name": "stderr",
     "output_type": "stream",
     "text": [
      "\u001b[32m\u001b[1m  Activating\u001b[22m\u001b[39m project at `~/Desktop/rrm-genomic-extractor`\n",
      "WARNING: replacing module DataIO.\n",
      "WARNING: replacing module Model.\n",
      "WARNING: replacing module Classification.\n"
     ]
    }
   ],
   "source": [
    "begin\n",
    "    using Pkg\n",
    "    Pkg.activate(\".\")\n",
    "    Pkg.instantiate()\n",
    "end\n",
    "\n",
    "include(\"modules/DataIO.jl\")\n",
    "include(\"modules/Model.jl\")\n",
    "\n",
    "using FASTX,\n",
    "    .DataIO,\n",
    "    .Model,\n",
    "    "
   ]
  },
  {
   "cell_type": "code",
   "execution_count": null,
   "metadata": {},
   "outputs": [
    {
     "data": {
      "text/plain": [
       "Dict{String, Tuple{BitVector, Vector{Tuple{Int64, Int64, Vector{Float64}}}, Vector{String}}} with 5 entries:\n",
       "  \"Omicron\" => ([0, 0, 0, 0, 0, 0, 0, 0, 0, 0  …  0, 0, 0, 0, 0, 0, 0, 0, 0, 0]…\n",
       "  \"Beta\"    => ([0, 0, 0, 0, 0, 0, 0, 0, 0, 0  …  0, 0, 0, 0, 0, 0, 0, 0, 0, 0]…\n",
       "  \"Gamma\"   => ([1, 1, 1, 1, 1, 1, 1, 1, 1, 1  …  1, 1, 1, 1, 1, 1, 1, 1, 1, 1]…\n",
       "  \"Delta\"   => ([1, 1, 1, 1, 1, 1, 1, 1, 1, 1  …  0, 0, 0, 0, 0, 0, 0, 0, 0, 0]…\n",
       "  \"Alpha\"   => ([0, 0, 0, 0, 0, 0, 0, 0, 0, 0  …  0, 0, 0, 0, 0, 0, 0, 0, 0, 0]…"
      ]
     },
     "metadata": {},
     "output_type": "display_data"
    }
   ],
   "source": [
    "modelCachedFile::String = \"$(pwd())/.project_cache/extracted_features.dat\"\n",
    "model::Union{Nothing,Dict{String,Tuple{BitArray,Vector{Tuple{Int,Int,Vector{Float64}}},Vector{String}}}} = DataIO.load_cache(modelCachedFile)"
   ]
  },
  {
   "cell_type": "code",
   "execution_count": 39,
   "metadata": {},
   "outputs": [],
   "source": [
    "classes = [\"Alpha\", \"Delta\", \"Beta\", \"Gamma\", \"Omicron\"]\n",
    "inputclassdata = Dict{String, Vector{String}}()\n",
    "\n",
    "for key in classes\n",
    "    cache_path = \"$(pwd())/.project_cache/$(key)_outmask.dat\"\n",
    "    vardata::Union{Nothing,Tuple{String,Tuple{Vector{UInt16},BitArray},Vector{String}}} = DataIO.load_cache(cache_path)\n",
    "    inputclassdata[key] = vardata[3]\n",
    "end\n"
   ]
  },
  {
   "cell_type": "code",
   "execution_count": 40,
   "metadata": {},
   "outputs": [
    {
     "ename": "StackOverflowError",
     "evalue": "StackOverflowError:",
     "output_type": "error",
     "traceback": [
      "StackOverflowError:\n",
      "\n",
      "Stacktrace:\n",
      "     [1] plan_rfft(x::Vector{Float64}, region::UnitRange{Int64})\n",
      "       @ AbstractFFTs ~/.julia/packages/AbstractFFTs/4iQz5/src/definitions.jl:221\n",
      "     [2] plan_rfft(x::Vector{Float64}, region::UnitRange{Int64}; kws::@Kwargs{})\n",
      "       @ AbstractFFTs ~/.julia/packages/AbstractFFTs/4iQz5/src/definitions.jl:221--- the above 1 lines are repeated 39990 more times ---"
     ]
    }
   ],
   "source": [
    "mdelstruct = Model.trainModel(inputclassdata, model)"
   ]
  },
  {
   "cell_type": "code",
   "execution_count": null,
   "metadata": {},
   "outputs": [
    {
     "data": {
      "text/plain": [
       "Dict{String, Tuple{Int64, Int64}}()"
      ]
     },
     "metadata": {},
     "output_type": "display_data"
    }
   ],
   "source": [
    "confMatrix = Dict{String,Tuple{Int,Int}}()"
   ]
  },
  {
   "cell_type": "code",
   "execution_count": null,
   "metadata": {},
   "outputs": [],
   "source": [
    "for class in classes\n",
    "    classeqs = Vector{String}()\n",
    "    for record in open(FASTAReader, \"/home/salipe/Desktop/datasets/test_voc/test/$class.fasta\")\n",
    "        seq::String = sequence(String, record)\n",
    "        push!(classeqs, seq)\n",
    "    end\n",
    "\n",
    "    classifications = String[]\n",
    "    for seq in classeqs\n",
    "        cl, _, _ = classifySequence(mdelstruct, seq)\n",
    "        # cl, _, _ = Classification.classifyInput(codeunits(seq), model, nothing)\n",
    "        push!(classifications, cl)\n",
    "    end\n",
    "    confMatrix[class] = (count(x -> x == class, classifications), length(classifications))\n",
    "\n",
    "end\n",
    "confMatrix"
   ]
  }
 ],
 "metadata": {
  "kernelspec": {
   "display_name": "Julia 1.11.3",
   "language": "julia",
   "name": "julia-1.11"
  },
  "language_info": {
   "file_extension": ".jl",
   "mimetype": "application/julia",
   "name": "julia",
   "version": "1.11.3"
  }
 },
 "nbformat": 4,
 "nbformat_minor": 2
}
